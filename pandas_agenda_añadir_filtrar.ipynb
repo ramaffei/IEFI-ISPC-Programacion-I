{
 "cells": [
  {
   "cell_type": "code",
   "execution_count": 15,
   "metadata": {},
   "outputs": [],
   "source": [
    "import pandas as pd\n",
    "import numpy as np\n",
    "import datetime\n",
    "from datetime import date, time\n",
    "from calendar import TextCalendar"
   ]
  },
  {
   "cell_type": "code",
   "execution_count": 16,
   "metadata": {},
   "outputs": [
    {
     "name": "stdout",
     "output_type": "stream",
     "text": [
      "10:00:00\n"
     ]
    }
   ],
   "source": [
    "hora_inicio = datetime.time(10,0,0)\n",
    "print(hora_inicio)"
   ]
  },
  {
   "cell_type": "code",
   "execution_count": 17,
   "metadata": {},
   "outputs": [
    {
     "name": "stdout",
     "output_type": "stream",
     "text": [
      "17:00:00\n"
     ]
    }
   ],
   "source": [
    "hora_final = time(17,0,0)\n",
    "print(hora_final)"
   ]
  },
  {
   "cell_type": "code",
   "execution_count": 18,
   "metadata": {},
   "outputs": [
    {
     "name": "stdout",
     "output_type": "stream",
     "text": [
      "00:30:00\n"
     ]
    }
   ],
   "source": [
    "turno = datetime.time(0,30,0)\n",
    "print(turno)"
   ]
  },
  {
   "cell_type": "code",
   "execution_count": 19,
   "metadata": {},
   "outputs": [
    {
     "name": "stdout",
     "output_type": "stream",
     "text": [
      "2021-11-15 17:41:47.902038\n",
      "2021-11-15 18:11:47.902038\n"
     ]
    }
   ],
   "source": [
    "hora = datetime.datetime.now()\n",
    "print(hora)\n",
    "resultado = hora + datetime.timedelta(minutes=30)\n",
    "print(resultado)\n"
   ]
  },
  {
   "cell_type": "code",
   "execution_count": 20,
   "metadata": {},
   "outputs": [
    {
     "name": "stdout",
     "output_type": "stream",
     "text": [
      "10:30:00\n"
     ]
    }
   ],
   "source": [
    "hora_inicio = datetime.datetime.strptime('10:00', '%H:%M')\n",
    "turno = datetime.datetime.strptime('00:30', '%H:%M')\n",
    "time_zero = datetime.datetime.strptime('00:00', '%H:%M')\n",
    "print((hora_inicio - time_zero + turno).time())"
   ]
  },
  {
   "cell_type": "code",
   "execution_count": 126,
   "metadata": {},
   "outputs": [
    {
     "name": "stdout",
     "output_type": "stream",
     "text": [
      " 1  2  3  4  5  6  7\n",
      " 8  9 10 11 12 13 14\n",
      "15 16 17 18 19 20 21\n",
      "22 23 24 25 26 27 28\n",
      "29 30     \n",
      "[[(1, 0), (2, 1), (3, 2), (4, 3), (5, 4), (6, 5), (7, 6)], [(8, 0), (9, 1), (10, 2), (11, 3), (12, 4), (13, 5), (14, 6)], [(15, 0), (16, 1), (17, 2), (18, 3), (19, 4), (20, 5), (21, 6)], [(22, 0), (23, 1), (24, 2), (25, 3), (26, 4), (27, 5), (28, 6)], [(29, 0), (30, 1), (0, 2), (0, 3), (0, 4), (0, 5), (0, 6)]]\n",
      "22\n",
      "23\n",
      "24\n",
      "25\n",
      "26\n",
      "[]\n"
     ]
    }
   ],
   "source": [
    "semana = []\n",
    "cal = TextCalendar()\n",
    "for week in cal.monthdays2calendar(2021, 11):\n",
    "        semana.append(week)\n",
    "        print(cal.formatweek(week, 0))\n",
    "\n",
    "print(semana)\n",
    "('')\n",
    "print(semana[3][0][0])\n",
    "print(semana[3][1][0])\n",
    "print(semana[3][2][0])\n",
    "print(semana[3][3][0])\n",
    "print(semana[3][4][0])\n",
    "('')\n",
    "print(semana[3:3][0:4][0:0])"
   ]
  },
  {
   "cell_type": "code",
   "execution_count": 182,
   "metadata": {},
   "outputs": [
    {
     "name": "stdout",
     "output_type": "stream",
     "text": [
      "    id_espe  Especialidad   Horario Lunes 22 Martes23 Miercoles24 Jueves25  \\\n",
      "0         1  Oftalmologia  10:30:00                                          \n",
      "1         1  Oftalmologia  10:30:00                                          \n",
      "2         1  Oftalmologia  10:30:00                                          \n",
      "3         1  Oftalmologia  10:30:00                                          \n",
      "4         1  Oftalmologia  10:30:00                                          \n",
      "5         1  Oftalmologia  10:30:00                                          \n",
      "6         1  Oftalmologia  10:30:00                                          \n",
      "7         1  Oftalmologia  10:30:00                                          \n",
      "8         1  Oftalmologia  10:30:00                                          \n",
      "9         1  Oftalmologia  10:30:00                                          \n",
      "10        1  Oftalmologia  10:30:00                                          \n",
      "11        1  Oftalmologia  10:30:00                                          \n",
      "12        1  Oftalmologia  10:30:00                                          \n",
      "13        1  Oftalmologia  10:30:00                                          \n",
      "14        1  Oftalmologia  10:30:00                                          \n",
      "15        1  Oftalmologia  10:30:00                                          \n",
      "16        1  Oftalmologia  10:30:00                                          \n",
      "17        1  Oftalmologia  10:30:00                                          \n",
      "18        1  Oftalmologia  10:30:00                                          \n",
      "19        1  Oftalmologia  10:30:00                                          \n",
      "\n",
      "   Viernes26  \n",
      "0             \n",
      "1             \n",
      "2             \n",
      "3             \n",
      "4             \n",
      "5             \n",
      "6             \n",
      "7             \n",
      "8             \n",
      "9             \n",
      "10            \n",
      "11            \n",
      "12            \n",
      "13            \n",
      "14            \n",
      "15            \n",
      "16            \n",
      "17            \n",
      "18            \n",
      "19            \n"
     ]
    }
   ],
   "source": [
    "def armarAgenda():\n",
    "    semana = []\n",
    "    cal = TextCalendar()\n",
    "    for week in cal.monthdays2calendar(2021, 11):\n",
    "        semana.append(week)\n",
    "    \n",
    "    rows = []\n",
    "    columns = ['id_espe','Especialidad','Horario','Lunes ' + str(semana[3][0][0]),'Martes' + str(semana[3][1][0]),'Miercoles' + str(semana[3][2][0]),'Jueves' + str(semana[3][3][0]),'Viernes' + str(semana[3][4][0])]\n",
    "\n",
    "    for i in range(20):\n",
    "        row = [1,'Oftalmologia', (hora_inicio - time_zero + turno).time(),'','','','','']\n",
    "        rows.append(row)\n",
    "\n",
    "        df_oft = pd.DataFrame(rows, columns=columns)\n",
    "\n",
    "    return df_oft\n",
    "\n",
    "df_oft = armarAgenda()\n",
    "print(df_oft)"
   ]
  },
  {
   "cell_type": "code",
   "execution_count": 183,
   "metadata": {},
   "outputs": [
    {
     "name": "stdout",
     "output_type": "stream",
     "text": [
      "    id_espe  Especialidad   Horario Lunes 22 Martes23 Miercoles24 Jueves25  \\\n",
      "0         1  Oftalmologia  10:30:00                                          \n",
      "1         1  Oftalmologia  10:30:00                                          \n",
      "2         1  Oftalmologia  10:30:00                                          \n",
      "3         1  Oftalmologia  10:30:00                                          \n",
      "4         1  Oftalmologia  10:30:00                                          \n",
      "5         1  Oftalmologia  10:30:00                                          \n",
      "6         1  Oftalmologia  10:30:00                                          \n",
      "7         1  Oftalmologia  10:30:00                                          \n",
      "8         1  Oftalmologia  10:30:00                                          \n",
      "9         1  Oftalmologia  10:30:00                                          \n",
      "10        1  Oftalmologia  10:30:00                                          \n",
      "11        1  Oftalmologia  10:30:00                                          \n",
      "12        1  Oftalmologia  10:30:00                                          \n",
      "13        1  Oftalmologia  10:30:00                                          \n",
      "14        1  Oftalmologia  10:30:00                                          \n",
      "15        1  Oftalmologia  10:30:00                                          \n",
      "16        1  Oftalmologia  10:30:00                                          \n",
      "17        1  Oftalmologia  10:30:00                                          \n",
      "18        1  Oftalmologia  10:30:00                                          \n",
      "19        1  Oftalmologia  10:30:00                                          \n",
      "\n",
      "   Viernes26  \n",
      "0             \n",
      "1             \n",
      "2             \n",
      "3             \n",
      "4             \n",
      "5             \n",
      "6             \n",
      "7             \n",
      "8             \n",
      "9             \n",
      "10            \n",
      "11            \n",
      "12            \n",
      "13            \n",
      "14            \n",
      "15            \n",
      "16            \n",
      "17            \n",
      "18            \n",
      "19            \n"
     ]
    }
   ],
   "source": [
    "rows = []\n",
    "columns = ['id_espe','Especialidad','Horario','Lunes ' + str(semana[3][0][0]),'Martes' + str(semana[3][1][0]),'Miercoles' + str(semana[3][2][0]),'Jueves' + str(semana[3][3][0]),'Viernes' + str(semana[3][4][0])]\n",
    "\n",
    "\n",
    "for i in range(20):\n",
    "    row = [1,'Oftalmologia', (hora_inicio - time_zero + turno).time(),'','','','','']\n",
    "    rows.append(row)\n",
    "\n",
    "df = pd.DataFrame(rows, columns=columns)\n",
    "print(df)"
   ]
  },
  {
   "cell_type": "code",
   "execution_count": 184,
   "metadata": {},
   "outputs": [
    {
     "name": "stdout",
     "output_type": "stream",
     "text": [
      "2021-11-15 18:18:54.842086\n",
      "2021-11-15 18:48:54.842086\n"
     ]
    }
   ],
   "source": [
    "hora = datetime.datetime.now()\n",
    "print(hora)\n",
    "resultado = hora + datetime.timedelta(minutes=30)\n",
    "print(resultado)\n",
    "\n"
   ]
  },
  {
   "cell_type": "code",
   "execution_count": 185,
   "metadata": {},
   "outputs": [
    {
     "data": {
      "text/plain": [
       "datetime.timedelta(days=1)"
      ]
     },
     "execution_count": 185,
     "metadata": {},
     "output_type": "execute_result"
    }
   ],
   "source": [
    "datetime.timedelta(days=1)\n",
    "datetime.timedelta(1)"
   ]
  },
  {
   "cell_type": "code",
   "execution_count": 186,
   "metadata": {},
   "outputs": [],
   "source": [
    "calendario = calendar.TextCalendar(calendar.MONDAY)\n",
    "\n"
   ]
  },
  {
   "cell_type": "code",
   "execution_count": null,
   "metadata": {},
   "outputs": [],
   "source": []
  },
  {
   "cell_type": "code",
   "execution_count": 187,
   "metadata": {},
   "outputs": [
    {
     "name": "stdout",
     "output_type": "stream",
     "text": [
      "2021-08-16 00:00:00\n"
     ]
    }
   ],
   "source": [
    "curr_date = \"8/11/21\"\n",
    "curr_date_temp = datetime.datetime.strptime(curr_date, \"%m/%d/%y\")\n",
    "\n",
    "new_date = curr_date_temp + datetime.timedelta(days=5)\n",
    "print(new_date)"
   ]
  }
 ],
 "metadata": {
  "interpreter": {
   "hash": "11ffc019a02cc0e21e59860b66c88ea81995ce9237607e8ab2c087a287ee4867"
  },
  "kernelspec": {
   "display_name": "Python 3.8.8 64-bit ('base': conda)",
   "language": "python",
   "name": "python3"
  },
  "language_info": {
   "codemirror_mode": {
    "name": "ipython",
    "version": 3
   },
   "file_extension": ".py",
   "mimetype": "text/x-python",
   "name": "python",
   "nbconvert_exporter": "python",
   "pygments_lexer": "ipython3",
   "version": "3.8.8"
  },
  "orig_nbformat": 4
 },
 "nbformat": 4,
 "nbformat_minor": 2
}
