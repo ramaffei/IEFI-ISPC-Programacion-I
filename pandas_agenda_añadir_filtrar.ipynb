{
 "cells": [
  {
   "cell_type": "code",
   "execution_count": 16,
   "metadata": {},
   "outputs": [],
   "source": [
    "import pandas as pd\n",
    "import numpy as np\n",
    "import datetime\n",
    "from datetime import date, time\n",
    "import calendar"
   ]
  },
  {
   "cell_type": "code",
   "execution_count": 17,
   "metadata": {},
   "outputs": [
    {
     "name": "stdout",
     "output_type": "stream",
     "text": [
      "10:00:00\n"
     ]
    }
   ],
   "source": [
    "hora_inicio = datetime.time(10,0,0)\n",
    "print(hora_inicio)"
   ]
  },
  {
   "cell_type": "code",
   "execution_count": 18,
   "metadata": {},
   "outputs": [
    {
     "name": "stdout",
     "output_type": "stream",
     "text": [
      "17:00:00\n"
     ]
    }
   ],
   "source": [
    "hora_final = time(17,0,0)\n",
    "print(hora_final)"
   ]
  },
  {
   "cell_type": "code",
   "execution_count": 19,
   "metadata": {},
   "outputs": [
    {
     "name": "stdout",
     "output_type": "stream",
     "text": [
      "00:30:00\n"
     ]
    }
   ],
   "source": [
    "turno = datetime.time(0,30,0)\n",
    "print(turno)"
   ]
  },
  {
   "cell_type": "code",
   "execution_count": 20,
   "metadata": {},
   "outputs": [
    {
     "name": "stdout",
     "output_type": "stream",
     "text": [
      "2021-11-15 16:31:06.659958\n",
      "2021-11-15 17:01:06.659958\n"
     ]
    }
   ],
   "source": [
    "hora = datetime.datetime.now()\n",
    "print(hora)\n",
    "resultado = hora + datetime.timedelta(minutes=30)\n",
    "print(resultado)\n"
   ]
  },
  {
   "cell_type": "code",
   "execution_count": 61,
   "metadata": {},
   "outputs": [
    {
     "name": "stdout",
     "output_type": "stream",
     "text": [
      "10:30:00\n"
     ]
    }
   ],
   "source": [
    "hora_inicio = datetime.datetime.strptime('10:00', '%H:%M')\n",
    "turno = datetime.datetime.strptime('00:30', '%H:%M')\n",
    "time_zero = datetime.datetime.strptime('00:00', '%H:%M')\n",
    "print((hora_inicio - time_zero + turno).time())"
   ]
  },
  {
   "cell_type": "code",
   "execution_count": null,
   "metadata": {},
   "outputs": [],
   "source": []
  },
  {
   "cell_type": "code",
   "execution_count": 80,
   "metadata": {},
   "outputs": [
    {
     "name": "stdout",
     "output_type": "stream",
     "text": [
      "    id_espe  Especialidad   Horario Lunes 2021-11-22 Martes Miercoles Jueves  \\\n",
      "0         1  Oftalmologia  10:30:00                                            \n",
      "1         1  Oftalmologia  10:30:00                                            \n",
      "2         1  Oftalmologia  10:30:00                                            \n",
      "3         1  Oftalmologia  10:30:00                                            \n",
      "4         1  Oftalmologia  10:30:00                                            \n",
      "5         1  Oftalmologia  10:30:00                                            \n",
      "6         1  Oftalmologia  10:30:00                                            \n",
      "7         1  Oftalmologia  10:30:00                                            \n",
      "8         1  Oftalmologia  10:30:00                                            \n",
      "9         1  Oftalmologia  10:30:00                                            \n",
      "10        1  Oftalmologia  10:30:00                                            \n",
      "11        1  Oftalmologia  10:30:00                                            \n",
      "12        1  Oftalmologia  10:30:00                                            \n",
      "13        1  Oftalmologia  10:30:00                                            \n",
      "14        1  Oftalmologia  10:30:00                                            \n",
      "15        1  Oftalmologia  10:30:00                                            \n",
      "16        1  Oftalmologia  10:30:00                                            \n",
      "17        1  Oftalmologia  10:30:00                                            \n",
      "18        1  Oftalmologia  10:30:00                                            \n",
      "19        1  Oftalmologia  10:30:00                                            \n",
      "\n",
      "   Viernes  \n",
      "0           \n",
      "1           \n",
      "2           \n",
      "3           \n",
      "4           \n",
      "5           \n",
      "6           \n",
      "7           \n",
      "8           \n",
      "9           \n",
      "10          \n",
      "11          \n",
      "12          \n",
      "13          \n",
      "14          \n",
      "15          \n",
      "16          \n",
      "17          \n",
      "18          \n",
      "19          \n"
     ]
    }
   ],
   "source": [
    "rows = []\n",
    "columns = ['id_espe','Especialidad','Horario','Lunes ' + str(datetime.date(2021,11,22)),'Martes','Miercoles','Jueves','Viernes']\n",
    "\n",
    "\n",
    "for i in range(20):\n",
    "    row = [1,'Oftalmologia', (hora_inicio - time_zero + turno).time(),'','','','','']\n",
    "    rows.append(row)\n",
    "\n",
    "df = pd.DataFrame(rows, columns=columns)\n",
    "print(df)"
   ]
  },
  {
   "cell_type": "code",
   "execution_count": 81,
   "metadata": {},
   "outputs": [
    {
     "name": "stdout",
     "output_type": "stream",
     "text": [
      "2021-11-15 17:03:30.235133\n",
      "2021-11-15 17:33:30.235133\n"
     ]
    }
   ],
   "source": [
    "hora = datetime.datetime.now()\n",
    "print(hora)\n",
    "resultado = hora + datetime.timedelta(minutes=30)\n",
    "print(resultado)\n",
    "\n"
   ]
  },
  {
   "cell_type": "code",
   "execution_count": 82,
   "metadata": {},
   "outputs": [
    {
     "data": {
      "text/plain": [
       "datetime.timedelta(days=1)"
      ]
     },
     "execution_count": 82,
     "metadata": {},
     "output_type": "execute_result"
    }
   ],
   "source": [
    "datetime.timedelta(days=1)\n",
    "datetime.timedelta(1)"
   ]
  }
 ],
 "metadata": {
  "interpreter": {
   "hash": "11ffc019a02cc0e21e59860b66c88ea81995ce9237607e8ab2c087a287ee4867"
  },
  "kernelspec": {
   "display_name": "Python 3.8.8 64-bit ('base': conda)",
   "language": "python",
   "name": "python3"
  },
  "language_info": {
   "codemirror_mode": {
    "name": "ipython",
    "version": 3
   },
   "file_extension": ".py",
   "mimetype": "text/x-python",
   "name": "python",
   "nbconvert_exporter": "python",
   "pygments_lexer": "ipython3",
   "version": "3.8.8"
  },
  "orig_nbformat": 4
 },
 "nbformat": 4,
 "nbformat_minor": 2
}
