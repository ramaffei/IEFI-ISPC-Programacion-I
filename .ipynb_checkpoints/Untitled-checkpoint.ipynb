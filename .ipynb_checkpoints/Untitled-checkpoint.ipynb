{
 "cells": [
  {
   "cell_type": "code",
   "execution_count": 17,
   "id": "33579899",
   "metadata": {},
   "outputs": [],
   "source": [
    "class Paciente:\n",
    "    def __init__(self):\n",
    "        self.datosPacientes=[]\n",
    "\n",
    "    def datosP(self):                       \n",
    "        nombre=input(\"Nombre: \")\n",
    "        apellido=input(\"Apellido: \")\n",
    "        edad=input(\"Edad: \")\n",
    "        genero=input(\"Género: \\n 1 Femenino (marque 1) \\n 2 Masculino (marque 2) \\n 3 Otro (marque 3) \\n\")\n",
    "        dni=input(\"DNI: \")\n",
    "        cel=input(\"Teléfono móvil: \")\n",
    "\n",
    "        self.validarDatosP(nombre,apellido,edad,genero,dni,cel) \n",
    "        self.datosPacientes.append({'Nombre':nombre,'Apellido':apellido,'Edad':edad,'Género':genero,'DNI':dni,'Celular':cel})\n",
    "\n",
    "    def validarDatosP(self,nombre,apellido,edad,genero,dni,cel):\n",
    "        \n",
    "        while True: \n",
    "            if nombre.isalnum and apellido.isalnum:\n",
    "                print(\"Error al ingresar los datos\")\n",
    "            try:\n",
    "                edad=int(edad)\n",
    "                genero=int(genero)\n",
    "                dni=int(dni)\n",
    "                cel=int(cel)\n",
    "            except (ValueError): \n",
    "                print(\"Error\") \n",
    "            break\n",
    "                              "
   ]
  },
  {
   "cell_type": "code",
   "execution_count": 18,
   "id": "df046fd3",
   "metadata": {},
   "outputs": [
    {
     "name": "stdout",
     "output_type": "stream",
     "text": [
      "Nombre: a\n",
      "Apellido: a\n",
      "Edad: a\n",
      "Género: \n",
      " 1 Femenino (marque 1) \n",
      " 2 Masculino (marque 2) \n",
      " 3 Otro (marque 3) \n",
      "a\n",
      "DNI: a\n",
      "Teléfono móvil: a\n"
     ]
    },
    {
     "ename": "TypeError",
     "evalue": "validarDatosP() takes 1 positional argument but 7 were given",
     "output_type": "error",
     "traceback": [
      "\u001b[1;31m---------------------------------------------------------------------------\u001b[0m",
      "\u001b[1;31mTypeError\u001b[0m                                 Traceback (most recent call last)",
      "\u001b[1;32m<ipython-input-18-faa5a19ee434>\u001b[0m in \u001b[0;36m<module>\u001b[1;34m\u001b[0m\n\u001b[0;32m      1\u001b[0m \u001b[0mpaciente\u001b[0m \u001b[1;33m=\u001b[0m \u001b[0mPaciente\u001b[0m\u001b[1;33m(\u001b[0m\u001b[1;33m)\u001b[0m\u001b[1;33m\u001b[0m\u001b[1;33m\u001b[0m\u001b[0m\n\u001b[1;32m----> 2\u001b[1;33m \u001b[0mpaciente\u001b[0m\u001b[1;33m.\u001b[0m\u001b[0mdatosP\u001b[0m\u001b[1;33m(\u001b[0m\u001b[1;33m)\u001b[0m\u001b[1;33m\u001b[0m\u001b[1;33m\u001b[0m\u001b[0m\n\u001b[0m\u001b[0;32m      3\u001b[0m \u001b[0mpaciente\u001b[0m\u001b[1;33m.\u001b[0m\u001b[0mdatosPacientes\u001b[0m\u001b[1;33m\u001b[0m\u001b[1;33m\u001b[0m\u001b[0m\n",
      "\u001b[1;32m<ipython-input-17-9bca431f0308>\u001b[0m in \u001b[0;36mdatosP\u001b[1;34m(self)\u001b[0m\n\u001b[0;32m     11\u001b[0m         \u001b[0mcel\u001b[0m\u001b[1;33m=\u001b[0m\u001b[0minput\u001b[0m\u001b[1;33m(\u001b[0m\u001b[1;34m\"Teléfono móvil: \"\u001b[0m\u001b[1;33m)\u001b[0m\u001b[1;33m\u001b[0m\u001b[1;33m\u001b[0m\u001b[0m\n\u001b[0;32m     12\u001b[0m \u001b[1;33m\u001b[0m\u001b[0m\n\u001b[1;32m---> 13\u001b[1;33m         \u001b[0mself\u001b[0m\u001b[1;33m.\u001b[0m\u001b[0mvalidarDatosP\u001b[0m\u001b[1;33m(\u001b[0m\u001b[0mnombre\u001b[0m\u001b[1;33m,\u001b[0m\u001b[0mapellido\u001b[0m\u001b[1;33m,\u001b[0m\u001b[0medad\u001b[0m\u001b[1;33m,\u001b[0m\u001b[0mgenero\u001b[0m\u001b[1;33m,\u001b[0m\u001b[0mdni\u001b[0m\u001b[1;33m,\u001b[0m\u001b[0mcel\u001b[0m\u001b[1;33m)\u001b[0m\u001b[1;33m\u001b[0m\u001b[1;33m\u001b[0m\u001b[0m\n\u001b[0m\u001b[0;32m     14\u001b[0m         \u001b[0mself\u001b[0m\u001b[1;33m.\u001b[0m\u001b[0mdatosPacientes\u001b[0m\u001b[1;33m.\u001b[0m\u001b[0mappend\u001b[0m\u001b[1;33m(\u001b[0m\u001b[1;33m{\u001b[0m\u001b[1;34m'Nombre'\u001b[0m\u001b[1;33m:\u001b[0m\u001b[0mnombre\u001b[0m\u001b[1;33m,\u001b[0m\u001b[1;34m'Apellido'\u001b[0m\u001b[1;33m:\u001b[0m\u001b[0mapellido\u001b[0m\u001b[1;33m,\u001b[0m\u001b[1;34m'Edad'\u001b[0m\u001b[1;33m:\u001b[0m\u001b[0medad\u001b[0m\u001b[1;33m,\u001b[0m\u001b[1;34m'Género'\u001b[0m\u001b[1;33m:\u001b[0m\u001b[0mgenero\u001b[0m\u001b[1;33m,\u001b[0m\u001b[1;34m'DNI'\u001b[0m\u001b[1;33m:\u001b[0m\u001b[0mdni\u001b[0m\u001b[1;33m,\u001b[0m\u001b[1;34m'Celular'\u001b[0m\u001b[1;33m:\u001b[0m\u001b[0mcel\u001b[0m\u001b[1;33m}\u001b[0m\u001b[1;33m)\u001b[0m\u001b[1;33m\u001b[0m\u001b[1;33m\u001b[0m\u001b[0m\n\u001b[0;32m     15\u001b[0m \u001b[1;33m\u001b[0m\u001b[0m\n",
      "\u001b[1;31mTypeError\u001b[0m: validarDatosP() takes 1 positional argument but 7 were given"
     ]
    }
   ],
   "source": [
    "paciente = Paciente()\n",
    "paciente.datosP()\n",
    "paciente.datosPacientes"
   ]
  },
  {
   "cell_type": "code",
   "execution_count": null,
   "id": "25a4dba8",
   "metadata": {},
   "outputs": [],
   "source": []
  }
 ],
 "metadata": {
  "kernelspec": {
   "display_name": "Python 3",
   "language": "python",
   "name": "python3"
  },
  "language_info": {
   "codemirror_mode": {
    "name": "ipython",
    "version": 3
   },
   "file_extension": ".py",
   "mimetype": "text/x-python",
   "name": "python",
   "nbconvert_exporter": "python",
   "pygments_lexer": "ipython3",
   "version": "3.8.8"
  }
 },
 "nbformat": 4,
 "nbformat_minor": 5
}
