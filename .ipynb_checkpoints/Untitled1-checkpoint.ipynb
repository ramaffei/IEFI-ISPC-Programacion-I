{
 "cells": [
  {
   "cell_type": "code",
   "execution_count": 12,
   "id": "5deb0f12",
   "metadata": {},
   "outputs": [
    {
     "name": "stdout",
     "output_type": "stream",
     "text": [
      "Nombre: Cecilia\n",
      "Apellido: Heredia\n"
     ]
    }
   ],
   "source": [
    "dic = [\"Nombre: \",\"Apellido: \"]\n",
    "for x in dic:\n",
    "    entradas = input(f\"{x}\")"
   ]
  },
  {
   "cell_type": "code",
   "execution_count": 13,
   "id": "425ac8af",
   "metadata": {},
   "outputs": [
    {
     "name": "stdout",
     "output_type": "stream",
     "text": [
      "Heredia\n"
     ]
    }
   ],
   "source": [
    "print(entradas)"
   ]
  },
  {
   "cell_type": "code",
   "execution_count": 10,
   "id": "1b50fb6c",
   "metadata": {},
   "outputs": [
    {
     "name": "stdout",
     "output_type": "stream",
     "text": [
      "<class 'dict'>\n"
     ]
    }
   ],
   "source": [
    "entradas = dict"
   ]
  },
  {
   "cell_type": "code",
   "execution_count": 11,
   "id": "675bae2e",
   "metadata": {},
   "outputs": [
    {
     "name": "stdout",
     "output_type": "stream",
     "text": [
      "<method 'items' of 'dict' objects>\n"
     ]
    }
   ],
   "source": [
    "print(entradas.items) "
   ]
  },
  {
   "cell_type": "code",
   "execution_count": null,
   "id": "1b2919de",
   "metadata": {},
   "outputs": [],
   "source": [
    "dic = [\"Nombre: \",\"Apellido: \"]\n",
    "entradas = 0\n",
    "for x in dic:\n",
    "    entradas = input(f\"{x}\")\n",
    "    entradas += 1"
   ]
  }
 ],
 "metadata": {
  "kernelspec": {
   "display_name": "Python 3",
   "language": "python",
   "name": "python3"
  },
  "language_info": {
   "codemirror_mode": {
    "name": "ipython",
    "version": 3
   },
   "file_extension": ".py",
   "mimetype": "text/x-python",
   "name": "python",
   "nbconvert_exporter": "python",
   "pygments_lexer": "ipython3",
   "version": "3.8.8"
  }
 },
 "nbformat": 4,
 "nbformat_minor": 5
}
