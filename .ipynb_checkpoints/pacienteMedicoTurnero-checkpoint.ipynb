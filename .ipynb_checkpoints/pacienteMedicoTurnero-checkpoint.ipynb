{
 "cells": [
  {
   "cell_type": "code",
   "execution_count": 1,
   "id": "aeb4fa20",
   "metadata": {},
   "outputs": [],
   "source": [
    "import pandas as pd\n",
    "import numpy as np"
   ]
  },
  {
   "cell_type": "code",
   "execution_count": null,
   "id": "abb7c415",
   "metadata": {},
   "outputs": [],
   "source": [
    "class Paciente:\n",
    "    def __init__(self):\n",
    "        self.datosPacientes={}\n",
    "\n",
    "    def datosP(self):\n",
    "        nombre=input(\"Nombre: \")\n",
    "        apellido=input(\"Apellido: \") \n",
    "        edad=input(\"Edad: \")\n",
    "        genero=input(\"Género: \\n 1 Femenino (marque 1) \\n 2 Masculino (marque 2) \\n 3 Otro (marque 3) \\n\")    \n",
    "        dni=input(\"DNI: \")\n",
    "        cel=input(\"Teléfono móvil: \")\n",
    "        id_espe=input(\"1 Oftalmología (marque 1)\\n2 Odontología (marque 2)\\n3 Ginecología (marque 3)\\n4 Médico Clínico (marque 4)\\n5 Pediatría (marque 5)\\n\")                 \n",
    "        \n",
    "        self.datosPacientes.append({'Nombre':nombre,'Apellido':apellido,'Edad':edad,'Genero':genero,'DNI':dni,'Celular':cel,'id_espe':id_espe})\n",
    "        self._guardarCSV()\n",
    "        return self.datosPacientes\n",
    "    \n",
    "    def _guardarCSV(self):\n",
    "        dfPacientes = pd.DataFrame(self.datosPacientes)\n",
    "        dfPacientes.to_csv('datosPacientes.csv')\n",
    "\n",
    "            \n",
    "paciente = Paciente()\n",
    "paciente.datosP()\n",
    "paciente.datosPacientes\n",
    "\n",
    "                           "
   ]
  },
  {
   "cell_type": "code",
   "execution_count": 3,
   "id": "51dbb0fc",
   "metadata": {},
   "outputs": [
    {
     "data": {
      "text/html": [
       "<div>\n",
       "<style scoped>\n",
       "    .dataframe tbody tr th:only-of-type {\n",
       "        vertical-align: middle;\n",
       "    }\n",
       "\n",
       "    .dataframe tbody tr th {\n",
       "        vertical-align: top;\n",
       "    }\n",
       "\n",
       "    .dataframe thead th {\n",
       "        text-align: right;\n",
       "    }\n",
       "</style>\n",
       "<table border=\"1\" class=\"dataframe\">\n",
       "  <thead>\n",
       "    <tr style=\"text-align: right;\">\n",
       "      <th></th>\n",
       "      <th>Id_espe</th>\n",
       "      <th>especialidad</th>\n",
       "      <th>nombre</th>\n",
       "      <th>apellido</th>\n",
       "    </tr>\n",
       "  </thead>\n",
       "  <tbody>\n",
       "    <tr>\n",
       "      <th>0</th>\n",
       "      <td>1</td>\n",
       "      <td>Oftalmologia</td>\n",
       "      <td>Marisa</td>\n",
       "      <td>Vargas</td>\n",
       "    </tr>\n",
       "    <tr>\n",
       "      <th>1</th>\n",
       "      <td>2</td>\n",
       "      <td>Odontologia</td>\n",
       "      <td>Pedro</td>\n",
       "      <td>Zinaudo</td>\n",
       "    </tr>\n",
       "    <tr>\n",
       "      <th>2</th>\n",
       "      <td>3</td>\n",
       "      <td>Ginecologia</td>\n",
       "      <td>Alfonso</td>\n",
       "      <td>Pedraza</td>\n",
       "    </tr>\n",
       "    <tr>\n",
       "      <th>3</th>\n",
       "      <td>4</td>\n",
       "      <td>Medico Clinico</td>\n",
       "      <td>Carolina</td>\n",
       "      <td>Mostaza</td>\n",
       "    </tr>\n",
       "    <tr>\n",
       "      <th>4</th>\n",
       "      <td>5</td>\n",
       "      <td>Pediatria</td>\n",
       "      <td>Ana</td>\n",
       "      <td>Gallardo</td>\n",
       "    </tr>\n",
       "  </tbody>\n",
       "</table>\n",
       "</div>"
      ],
      "text/plain": [
       "   Id_espe    especialidad    nombre  apellido\n",
       "0        1    Oftalmologia    Marisa    Vargas\n",
       "1        2     Odontologia     Pedro   Zinaudo\n",
       "2        3     Ginecologia   Alfonso   Pedraza\n",
       "3        4  Medico Clinico  Carolina   Mostaza\n",
       "4        5       Pediatria       Ana  Gallardo"
      ]
     },
     "execution_count": 3,
     "metadata": {},
     "output_type": "execute_result"
    }
   ],
   "source": [
    "class Medico:\n",
    "    def __init__(self):\n",
    "        pass\n",
    "    \n",
    "    def datosM(self):\n",
    "        self.medicos = pd.read_csv(\"medicos.csv\")\n",
    "        return self.medicos\n",
    "\n",
    "medico = Medico()\n",
    "medico.datosM()\n",
    "\n"
   ]
  },
  {
   "cell_type": "code",
   "execution_count": 6,
   "id": "5740e40c",
   "metadata": {},
   "outputs": [
    {
     "ename": "IndexError",
     "evalue": "list index out of range",
     "output_type": "error",
     "traceback": [
      "\u001b[1;31m---------------------------------------------------------------------------\u001b[0m",
      "\u001b[1;31mIndexError\u001b[0m                                Traceback (most recent call last)",
      "\u001b[1;32m<ipython-input-6-8cfa9baa6d9c>\u001b[0m in \u001b[0;36m<module>\u001b[1;34m\u001b[0m\n\u001b[0;32m      8\u001b[0m \u001b[1;33m\u001b[0m\u001b[0m\n\u001b[0;32m      9\u001b[0m \u001b[0mturno\u001b[0m \u001b[1;33m=\u001b[0m \u001b[0mTurnero\u001b[0m\u001b[1;33m(\u001b[0m\u001b[1;33m)\u001b[0m\u001b[1;33m\u001b[0m\u001b[1;33m\u001b[0m\u001b[0m\n\u001b[1;32m---> 10\u001b[1;33m \u001b[0mturno\u001b[0m\u001b[1;33m.\u001b[0m\u001b[0masignarTurno\u001b[0m\u001b[1;33m(\u001b[0m\u001b[1;33m)\u001b[0m\u001b[1;33m\u001b[0m\u001b[1;33m\u001b[0m\u001b[0m\n\u001b[0m",
      "\u001b[1;32m<ipython-input-6-8cfa9baa6d9c>\u001b[0m in \u001b[0;36masignarTurno\u001b[1;34m(self)\u001b[0m\n\u001b[0;32m      4\u001b[0m         \u001b[0mdatos\u001b[0m \u001b[1;33m=\u001b[0m \u001b[0mself\u001b[0m\u001b[1;33m.\u001b[0m\u001b[0mdatosPacientes\u001b[0m\u001b[1;33m\u001b[0m\u001b[1;33m\u001b[0m\u001b[0m\n\u001b[0;32m      5\u001b[0m         \u001b[1;31m#self.datosPacientes = pd.read_csv('datosPacientes.csv')\u001b[0m\u001b[1;33m\u001b[0m\u001b[1;33m\u001b[0m\u001b[1;33m\u001b[0m\u001b[0m\n\u001b[1;32m----> 6\u001b[1;33m         \u001b[0mprint\u001b[0m\u001b[1;33m(\u001b[0m\u001b[0mdatos\u001b[0m\u001b[1;33m[\u001b[0m\u001b[1;36m1\u001b[0m\u001b[1;33m]\u001b[0m\u001b[1;33m[\u001b[0m\u001b[1;34m\"id_espe\"\u001b[0m\u001b[1;33m]\u001b[0m\u001b[1;33m)\u001b[0m\u001b[1;33m\u001b[0m\u001b[1;33m\u001b[0m\u001b[0m\n\u001b[0m\u001b[0;32m      7\u001b[0m                 \u001b[1;31m#print(f\"{nombre}{apellido}\")\u001b[0m\u001b[1;33m\u001b[0m\u001b[1;33m\u001b[0m\u001b[1;33m\u001b[0m\u001b[0m\n\u001b[0;32m      8\u001b[0m \u001b[1;33m\u001b[0m\u001b[0m\n",
      "\u001b[1;31mIndexError\u001b[0m: list index out of range"
     ]
    }
   ],
   "source": [
    "class Turnero(Paciente,Medico):\n",
    "    \n",
    "    def asignarTurno(self):\n",
    "        datos = self.datosPacientes\n",
    "        #self.datosPacientes = pd.read_csv('datosPacientes.csv')\n",
    "        print(datos[1][\"id_espe\"])\n",
    "                #print(f\"{nombre}{apellido}\")\n",
    "    \n",
    "turno = Turnero()\n",
    "turno.asignarTurno()"
   ]
  },
  {
   "cell_type": "code",
   "execution_count": null,
   "id": "76904584",
   "metadata": {},
   "outputs": [],
   "source": []
  }
 ],
 "metadata": {
  "kernelspec": {
   "display_name": "Python 3",
   "language": "python",
   "name": "python3"
  },
  "language_info": {
   "codemirror_mode": {
    "name": "ipython",
    "version": 3
   },
   "file_extension": ".py",
   "mimetype": "text/x-python",
   "name": "python",
   "nbconvert_exporter": "python",
   "pygments_lexer": "ipython3",
   "version": "3.8.8"
  }
 },
 "nbformat": 4,
 "nbformat_minor": 5
}
