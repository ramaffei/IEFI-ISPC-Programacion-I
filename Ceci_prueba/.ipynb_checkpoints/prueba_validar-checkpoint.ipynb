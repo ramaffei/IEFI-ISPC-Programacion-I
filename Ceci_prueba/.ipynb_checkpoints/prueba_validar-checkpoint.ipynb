{
 "cells": [
  {
   "cell_type": "code",
   "execution_count": 3,
   "metadata": {},
   "outputs": [
    {
     "name": "stdout",
     "output_type": "stream",
     "text": [
      "\n",
      " Bienvenido al TURNERO del Centro de Salud Comunitario.\n",
      "   La atención es de lunes a viernes de 10 a 17 hs.\n",
      "    ¿Para cuál especialidad quiere pedir un turno?\n",
      "        \n",
      "        1 Oftalmología (marque 1)\n",
      "        2 Odontología (marque 2)\n",
      "        3 Ginecología (marque 3)\n",
      "        4 Médico Clínico (marque 4)\n",
      "        5 Pediatría (marque 5)\n",
      "\n",
      "Marque el número de la especialidad: 2\n",
      "Marque el número de la especialidad: 2\n",
      "Marque el número de la especialidad: 3\n",
      "Marque el número de la especialidad: 4\n",
      "Marque 1, 2, 3, 4 ó 5 según el menú anterior:\n",
      "Marque el número de la especialidad: 5\n"
     ]
    }
   ],
   "source": [
    "print(\"\"\"\n",
    " Bienvenido al TURNERO del Centro de Salud Comunitario.\n",
    "   La atención es de lunes a viernes de 10 a 17 hs.\n",
    "    ¿Para cuál especialidad quiere pedir un turno?\n",
    "        \n",
    "        1 Oftalmología (marque 1)\n",
    "        2 Odontología (marque 2)\n",
    "        3 Ginecología (marque 3)\n",
    "        4 Médico Clínico (marque 4)\n",
    "        5 Pediatría (marque 5)\n",
    "\"\"\")\n",
    "\n",
    "while True:\n",
    "    try:\n",
    "        id_espe=input('Marque el número de la especialidad: ')\n",
    "        id_espe=int(id_espe)\n",
    "        if id_espe <1 or id_espe >3:\n",
    "            print('Marque 1, 2, 3, 4 ó 5 según el menú anterior:')\n",
    "            id_espe=input('Marque el número de la especialidad: ')\n",
    "            break\n",
    "    except (ValueError): \n",
    "        print(\"Error al ingresar los datos\")   "
   ]
  },
  {
   "cell_type": "code",
   "execution_count": null,
   "metadata": {},
   "outputs": [],
   "source": []
  },
  {
   "cell_type": "code",
   "execution_count": null,
   "metadata": {},
   "outputs": [],
   "source": []
  }
 ],
 "metadata": {
  "interpreter": {
   "hash": "11ffc019a02cc0e21e59860b66c88ea81995ce9237607e8ab2c087a287ee4867"
  },
  "kernelspec": {
   "display_name": "Python 3",
   "language": "python",
   "name": "python3"
  },
  "language_info": {
   "codemirror_mode": {
    "name": "ipython",
    "version": 3
   },
   "file_extension": ".py",
   "mimetype": "text/x-python",
   "name": "python",
   "nbconvert_exporter": "python",
   "pygments_lexer": "ipython3",
   "version": "3.8.8"
  }
 },
 "nbformat": 4,
 "nbformat_minor": 2
}
