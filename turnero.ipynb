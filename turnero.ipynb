{
 "cells": [
  {
   "cell_type": "code",
   "execution_count": null,
   "metadata": {},
   "outputs": [],
   "source": [
    "import pandas as pd\n",
    "import numpy as np\n",
    "\n",
    "class Agenda:\n",
    "\n",
    "   def __init__(self, csv) -> None:\n",
    "      self.csv(csv)\n",
    "      self._agenda(pd.read_csv(self.csv))\n",
    "\n",
    "   def getAgenda(self):\n",
    "      return self._agenda\n",
    "\n",
    "   def setAgenda(self, df):\n",
    "      pd.to_csv('agenda.csv')\n",
    "\n",
    "class Turno():\n",
    "\n",
    "   def __init__(self, csv) -> None:\n",
    "      self.agenda = Agenda(csv)\n",
    "   \n",
    "   def agregar(self, turno):\n",
    "      df = self.agenda.getAgenda()\n",
    "      df = df.append(turno)\n",
    "      df.to_csv(self.csv)\n",
    "   \n",
    "   def verDisponibles(self):\n",
    "      horarioApertura = 10\n",
    "      horarioCierre = 17\n",
    "      diasDisponibles = ['Lunes', 'Martes', 'Miercoles', 'Jueves', 'Viernes']\n",
    "\n",
    "      df = self.agenda.getAgenda()\n",
    "      #traer todos los horarios que NO \n",
    "      df = df[]\n",
    "\n",
    "\n",
    "\n",
    "   def eliminar(self):\n",
    "      pass\n",
    "\n"
   ]
  }
 ],
 "metadata": {
  "language_info": {
   "name": "python"
  },
  "orig_nbformat": 4
 },
 "nbformat": 4,
 "nbformat_minor": 2
}
