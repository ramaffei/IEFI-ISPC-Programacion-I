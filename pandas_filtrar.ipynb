{
 "cells": [
  {
   "cell_type": "code",
   "execution_count": 1,
   "metadata": {},
   "outputs": [],
   "source": [
    "import pandas as pd\n",
    "import numpy as np\n",
    "from numpy.random import randint\n",
    "import time"
   ]
  },
  {
   "cell_type": "code",
   "execution_count": 2,
   "metadata": {},
   "outputs": [
    {
     "name": "stdout",
     "output_type": "stream",
     "text": [
      "       Date  Sales  Price\n",
      "1  April-11    300      1\n",
      "4  April-14    300      3\n",
      "5  April-16    300      2\n"
     ]
    }
   ],
   "source": [
    "dates=['April-10', 'April-11', 'April-12', 'April-13','April-14','April-16']\n",
    "sales=[200,300,400,200,300,300]\n",
    "prices=[3, 1, 2, 4,3,2]\n",
    "\n",
    "df = pd.DataFrame({'Date':dates ,\n",
    "                   'Sales':sales ,\n",
    "                   'Price': prices})\n",
    "\n",
    "filtered_df = df[df.Sales.eq(300)]\n",
    "print(filtered_df)"
   ]
  },
  {
   "cell_type": "code",
   "execution_count": 3,
   "metadata": {},
   "outputs": [
    {
     "name": "stdout",
     "output_type": "stream",
     "text": [
      "       Date  Sales  Price\n",
      "1  April-11    300      1\n",
      "4  April-14    300      3\n",
      "5  April-16    300      2\n"
     ]
    }
   ],
   "source": [
    "filtered_df = df.query('Sales == 300')\n",
    "print(filtered_df)"
   ]
  },
  {
   "cell_type": "code",
   "execution_count": 4,
   "metadata": {},
   "outputs": [
    {
     "name": "stdout",
     "output_type": "stream",
     "text": [
      "       Date  Sales  Price\n",
      "0  April-10    200      3\n",
      "2  April-12    400      2\n",
      "3  April-13    200      4\n"
     ]
    }
   ],
   "source": [
    "values=[200,400]\n",
    "filtered_df = df[df.Sales.isin(values)]\n",
    "print(filtered_df)"
   ]
  },
  {
   "cell_type": "code",
   "execution_count": 5,
   "metadata": {},
   "outputs": [
    {
     "name": "stdout",
     "output_type": "stream",
     "text": [
      "       Date  Sales  Price\n",
      "3  April-13    200      4\n"
     ]
    }
   ],
   "source": [
    "values_1=[200,400]\n",
    "values_2=[2,3]\n",
    "filtered_df = df[df.Sales.isin(values_1)&~df.Price.isin(values_2)]\n",
    "print(filtered_df)"
   ]
  }
 ],
 "metadata": {
  "interpreter": {
   "hash": "11ffc019a02cc0e21e59860b66c88ea81995ce9237607e8ab2c087a287ee4867"
  },
  "kernelspec": {
   "display_name": "Python 3.8.8 64-bit ('base': conda)",
   "language": "python",
   "name": "python3"
  },
  "language_info": {
   "codemirror_mode": {
    "name": "ipython",
    "version": 3
   },
   "file_extension": ".py",
   "mimetype": "text/x-python",
   "name": "python",
   "nbconvert_exporter": "python",
   "pygments_lexer": "ipython3",
   "version": "3.8.8"
  },
  "orig_nbformat": 4
 },
 "nbformat": 4,
 "nbformat_minor": 2
}
