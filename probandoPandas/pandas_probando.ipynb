{
 "cells": [
  {
   "cell_type": "code",
   "execution_count": 2,
   "metadata": {},
   "outputs": [
    {
     "name": "stdout",
     "output_type": "stream",
     "text": [
      "   A  B\n",
      "0  1  2\n",
      "1  3  4\n",
      "2  5  6\n"
     ]
    }
   ],
   "source": [
    "import pandas as pd\n",
    "import numpy as np\n",
    "from numpy.random import randint\n",
    "import time\n",
    "\n",
    "mycolumns = ['A', 'B']\n",
    "df = pd.DataFrame(columns=mycolumns)\n",
    "rows = [[1,2],[3,4],[5,6]]\n",
    "for row in rows:\n",
    "    df.loc[len(df)] = row\n",
    "\n",
    "print(df)\n",
    "\n"
   ]
  },
  {
   "cell_type": "code",
   "execution_count": 3,
   "metadata": {},
   "outputs": [
    {
     "data": {
      "text/html": [
       "<div>\n",
       "<style scoped>\n",
       "    .dataframe tbody tr th:only-of-type {\n",
       "        vertical-align: middle;\n",
       "    }\n",
       "\n",
       "    .dataframe tbody tr th {\n",
       "        vertical-align: top;\n",
       "    }\n",
       "\n",
       "    .dataframe thead th {\n",
       "        text-align: right;\n",
       "    }\n",
       "</style>\n",
       "<table border=\"1\" class=\"dataframe\">\n",
       "  <thead>\n",
       "    <tr style=\"text-align: right;\">\n",
       "      <th></th>\n",
       "      <th>lib</th>\n",
       "      <th>qty1</th>\n",
       "      <th>qty2</th>\n",
       "    </tr>\n",
       "  </thead>\n",
       "  <tbody>\n",
       "    <tr>\n",
       "      <th>0</th>\n",
       "      <td>name0</td>\n",
       "      <td>8</td>\n",
       "      <td>7</td>\n",
       "    </tr>\n",
       "    <tr>\n",
       "      <th>1</th>\n",
       "      <td>name1</td>\n",
       "      <td>0</td>\n",
       "      <td>3</td>\n",
       "    </tr>\n",
       "    <tr>\n",
       "      <th>2</th>\n",
       "      <td>name2</td>\n",
       "      <td>8</td>\n",
       "      <td>6</td>\n",
       "    </tr>\n",
       "    <tr>\n",
       "      <th>3</th>\n",
       "      <td>name3</td>\n",
       "      <td>7</td>\n",
       "      <td>3</td>\n",
       "    </tr>\n",
       "    <tr>\n",
       "      <th>4</th>\n",
       "      <td>name4</td>\n",
       "      <td>6</td>\n",
       "      <td>6</td>\n",
       "    </tr>\n",
       "  </tbody>\n",
       "</table>\n",
       "</div>"
      ],
      "text/plain": [
       "     lib qty1 qty2\n",
       "0  name0    8    7\n",
       "1  name1    0    3\n",
       "2  name2    8    6\n",
       "3  name3    7    3\n",
       "4  name4    6    6"
      ]
     },
     "execution_count": 3,
     "metadata": {},
     "output_type": "execute_result"
    }
   ],
   "source": [
    "df = pd.DataFrame(columns=['lib', 'qty1', 'qty2'])\n",
    "for i in range(5):\n",
    "    df.loc[i] = ['name' + str(i)] + list(randint(10, size=2))\n",
    "\n",
    "df"
   ]
  },
  {
   "cell_type": "code",
   "execution_count": 4,
   "metadata": {},
   "outputs": [
    {
     "data": {
      "text/html": [
       "<div>\n",
       "<style scoped>\n",
       "    .dataframe tbody tr th:only-of-type {\n",
       "        vertical-align: middle;\n",
       "    }\n",
       "\n",
       "    .dataframe tbody tr th {\n",
       "        vertical-align: top;\n",
       "    }\n",
       "\n",
       "    .dataframe thead th {\n",
       "        text-align: right;\n",
       "    }\n",
       "</style>\n",
       "<table border=\"1\" class=\"dataframe\">\n",
       "  <thead>\n",
       "    <tr style=\"text-align: right;\">\n",
       "      <th></th>\n",
       "      <th>lib</th>\n",
       "      <th>qty1</th>\n",
       "      <th>qty2</th>\n",
       "    </tr>\n",
       "  </thead>\n",
       "  <tbody>\n",
       "    <tr>\n",
       "      <th>0</th>\n",
       "      <td>-1</td>\n",
       "      <td>0</td>\n",
       "      <td>-1</td>\n",
       "    </tr>\n",
       "    <tr>\n",
       "      <th>1</th>\n",
       "      <td>0</td>\n",
       "      <td>0</td>\n",
       "      <td>-1</td>\n",
       "    </tr>\n",
       "    <tr>\n",
       "      <th>2</th>\n",
       "      <td>0</td>\n",
       "      <td>-1</td>\n",
       "      <td>0</td>\n",
       "    </tr>\n",
       "    <tr>\n",
       "      <th>3</th>\n",
       "      <td>-1</td>\n",
       "      <td>-1</td>\n",
       "      <td>-1</td>\n",
       "    </tr>\n",
       "    <tr>\n",
       "      <th>4</th>\n",
       "      <td>-1</td>\n",
       "      <td>-1</td>\n",
       "      <td>0</td>\n",
       "    </tr>\n",
       "  </tbody>\n",
       "</table>\n",
       "</div>"
      ],
      "text/plain": [
       "  lib qty1 qty2\n",
       "0  -1    0   -1\n",
       "1   0    0   -1\n",
       "2   0   -1    0\n",
       "3  -1   -1   -1\n",
       "4  -1   -1    0"
      ]
     },
     "execution_count": 4,
     "metadata": {},
     "output_type": "execute_result"
    }
   ],
   "source": [
    "# we know we're gonna have 5 rows of data\n",
    "numberOfRows = 5\n",
    "# create dataframe\n",
    "df = pd.DataFrame(index=np.arange(0, numberOfRows), columns=('lib', 'qty1', 'qty2') )\n",
    "\n",
    "# now fill it up row by row\n",
    "for x in np.arange(0, numberOfRows):\n",
    "    #loc or iloc both work here since the index is natural numbers\n",
    "    df.loc[x] = [np.random.randint(-1,1) for n in range(3)]\n",
    "df"
   ]
  },
  {
   "cell_type": "code",
   "execution_count": 5,
   "metadata": {},
   "outputs": [
    {
     "name": "stdout",
     "output_type": "stream",
     "text": [
      "Elapsed time:  1.908 seconds for 1000 rows\n",
      "(1000, 5)\n",
      "Elapsed time:  2.342 seconds for 1000 rows\n",
      "(1000, 5)\n",
      "Elapsed time:  0.038 seconds for 1000 rows\n",
      "(1000, 5)\n"
     ]
    }
   ],
   "source": [
    "#del df1, df2, df3\n",
    "numOfRows = 1000\n",
    "startTime = time.perf_counter()\n",
    "df1 = pd.DataFrame(np.random.randint(100, size=(5,5)), columns=['A', 'B', 'C', 'D', 'E'])\n",
    "for i in range( 1,numOfRows-4):\n",
    "    df1 = df1.append( dict( (a,np.random.randint(100)) for a in ['A','B','C','D','E']), ignore_index=True)\n",
    "print('Elapsed time: {:6.3f} seconds for {:d} rows'.format(time.perf_counter() - startTime, numOfRows))\n",
    "print(df1.shape)\n",
    "\n",
    "startTime = time.perf_counter()\n",
    "df2 = pd.DataFrame(np.random.randint(100, size=(5,5)), columns=['A', 'B', 'C', 'D', 'E'])\n",
    "for i in range( 1,numOfRows):\n",
    "    df2.loc[i]  = np.random.randint(100, size=(1,5))[0]\n",
    "print('Elapsed time: {:6.3f} seconds for {:d} rows'.format(time.perf_counter() - startTime, numOfRows))\n",
    "print(df2.shape)\n",
    "\n",
    "startTime = time.perf_counter()\n",
    "row_list = []\n",
    "for i in range (0,5):\n",
    "    row_list.append(dict( (a,np.random.randint(100)) for a in ['A','B','C','D','E']))\n",
    "for i in range( 1,numOfRows-4):\n",
    "    dict1 = dict( (a,np.random.randint(100)) for a in ['A','B','C','D','E'])\n",
    "    row_list.append(dict1)\n",
    "\n",
    "df3 = pd.DataFrame(row_list, columns=['A','B','C','D','E'])\n",
    "print('Elapsed time: {:6.3f} seconds for {:d} rows'.format(time.perf_counter() - startTime, numOfRows))\n",
    "print(df3.shape)"
   ]
  },
  {
   "cell_type": "code",
   "execution_count": 6,
   "metadata": {},
   "outputs": [
    {
     "name": "stdout",
     "output_type": "stream",
     "text": [
      "   i  double  square\n",
      "0  0       0       0\n",
      "1  1       2       1\n",
      "2  2       4       4\n",
      "3  3       6       9\n",
      "4  4       8      16\n",
      "5  5      10      25\n"
     ]
    }
   ],
   "source": [
    "rows = []\n",
    "columns = ['i','double','square']\n",
    "\n",
    "for i in range(6):\n",
    "    row = [i, i*2, i*i]\n",
    "    rows.append(row)\n",
    "\n",
    "df = pd.DataFrame(rows, columns=columns)\n",
    "print(df)"
   ]
  },
  {
   "cell_type": "code",
   "execution_count": 11,
   "metadata": {},
   "outputs": [
    {
     "name": "stdout",
     "output_type": "stream",
     "text": [
      "   id_espe  Especialidad  Lunes  Martes  Miercoles  Jueves  Viernes\n",
      "0        1  Oftalmologia     30      30         30      30       30\n",
      "1        1  Oftalmologia     31      31         31      31       31\n",
      "2        1  Oftalmologia     32      32         32      32       32\n",
      "3        1  Oftalmologia     33      33         33      33       33\n",
      "4        1  Oftalmologia     34      34         34      34       34\n",
      "5        1  Oftalmologia     35      35         35      35       35\n",
      "6        1  Oftalmologia     36      36         36      36       36\n",
      "7        1  Oftalmologia     37      37         37      37       37\n",
      "8        1  Oftalmologia     38      38         38      38       38\n",
      "9        1  Oftalmologia     39      39         39      39       39\n"
     ]
    }
   ],
   "source": [
    "rows = []\n",
    "columns = ['id_espe','Especialidad','Lunes','Martes','Miercoles','Jueves','Viernes']\n",
    "\n",
    "i = 10\n",
    "for i in range(10):\n",
    "    row = [1,'Oftalmologia', i+30,i+30,i+30,i+30,i+30]\n",
    "    rows.append(row)\n",
    "\n",
    "df = pd.DataFrame(rows, columns=columns)\n",
    "print(df)"
   ]
  },
  {
   "cell_type": "code",
   "execution_count": 14,
   "metadata": {},
   "outputs": [],
   "source": [
    "#Para agregar\n",
    "#df.loc[\"two\"] = [4,5,6]"
   ]
  },
  {
   "cell_type": "code",
   "execution_count": 18,
   "metadata": {},
   "outputs": [
    {
     "name": "stdout",
     "output_type": "stream",
     "text": [
      "      A   B   C   D   E\n",
      "0    93  57  53  71  19\n",
      "1    79  49  16  74  41\n",
      "2    33  62  15  65  13\n",
      "3    66  55  29  95   1\n",
      "4    64  84   5  86  82\n",
      "..   ..  ..  ..  ..  ..\n",
      "995  17  27  67  67  88\n",
      "996  47  88  66  95  20\n",
      "997  24   2  85  77  88\n",
      "998  78   2  22  65  45\n",
      "999   5  59   9  80  97\n",
      "\n",
      "[1000 rows x 5 columns]\n"
     ]
    }
   ],
   "source": [
    "def add_row(df2, row):\n",
    "    colnames = list(df2.columns)\n",
    "    ncol = len(colnames)\n",
    "    assert ncol == len(row), \"Length of row must be the same as width of DataFrame: %s\" % row\n",
    "    return df2.append(pd.DataFrame([row], columns=colnames))\n",
    "\n",
    "print(df2)"
   ]
  },
  {
   "cell_type": "code",
   "execution_count": 20,
   "metadata": {},
   "outputs": [
    {
     "name": "stdout",
     "output_type": "stream",
     "text": [
      "<function add_row at 0x00000162739D53A0>\n"
     ]
    }
   ],
   "source": [
    "def add_row(self, row):\n",
    "    self.loc[len(self.index)] = row\n",
    "pd.DataFrame.add_row = add_row\n",
    "\n",
    "\n"
   ]
  },
  {
   "cell_type": "code",
   "execution_count": null,
   "metadata": {},
   "outputs": [],
   "source": []
  },
  {
   "cell_type": "code",
   "execution_count": null,
   "metadata": {},
   "outputs": [],
   "source": []
  },
  {
   "cell_type": "code",
   "execution_count": null,
   "metadata": {},
   "outputs": [],
   "source": []
  },
  {
   "cell_type": "code",
   "execution_count": null,
   "metadata": {},
   "outputs": [],
   "source": []
  }
 ],
 "metadata": {
  "interpreter": {
   "hash": "11ffc019a02cc0e21e59860b66c88ea81995ce9237607e8ab2c087a287ee4867"
  },
  "kernelspec": {
   "display_name": "Python 3.8.8 64-bit ('base': conda)",
   "language": "python",
   "name": "python3"
  },
  "language_info": {
   "codemirror_mode": {
    "name": "ipython",
    "version": 3
   },
   "file_extension": ".py",
   "mimetype": "text/x-python",
   "name": "python",
   "nbconvert_exporter": "python",
   "pygments_lexer": "ipython3",
   "version": "3.8.8"
  },
  "orig_nbformat": 4
 },
 "nbformat": 4,
 "nbformat_minor": 2
}
