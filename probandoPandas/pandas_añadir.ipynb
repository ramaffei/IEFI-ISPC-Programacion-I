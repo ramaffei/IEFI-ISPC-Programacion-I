{
 "cells": [
  {
   "cell_type": "code",
   "execution_count": 2,
   "metadata": {},
   "outputs": [
    {
     "name": "stdout",
     "output_type": "stream",
     "text": [
      "     Name  Price Stock\n",
      "0  Orange     34   Yes\n",
      "1   Apple     23    No\n",
      "2   Mango     13   Yes\n"
     ]
    }
   ],
   "source": [
    "import pandas as pd\n",
    "import numpy as np\n",
    "from numpy.random import randint\n",
    "import time\n",
    "\n",
    "fruit_list = [ ('Orange', 34, 'Yes' )]\n",
    "#Create a DataFrame object\n",
    "df = pd.DataFrame(fruit_list, columns = ['Name' , 'Price', 'Stock'])\n",
    "#Add new ROW\n",
    "df=df.append({'Name' : 'Apple' , 'Price' : 23, 'Stock' : 'No'} , ignore_index=True)\n",
    "df=df.append({'Name' : 'Mango' , 'Price' : 13, 'Stock' : 'Yes'} , ignore_index=True)\n",
    "print(df)"
   ]
  },
  {
   "cell_type": "code",
   "execution_count": 3,
   "metadata": {},
   "outputs": [
    {
     "name": "stdout",
     "output_type": "stream",
     "text": [
      "     Name  Price Stock\n",
      "0  Orange     34   Yes\n",
      "1   Mango      4    No\n",
      "2   Apple     14   Yes\n"
     ]
    }
   ],
   "source": [
    "fruit_list = [ ('Orange', 34, 'Yes' )]\n",
    "#Create a DataFrame object\n",
    "df = pd.DataFrame(fruit_list, columns = ['Name' , 'Price', 'Stock'])\n",
    "#Add new ROW\n",
    "df.loc[1]=[ 'Mango', 4, 'No' ]\n",
    "df.loc[2]=[ 'Apple', 14, 'Yes' ]\n",
    "print(df)"
   ]
  }
 ],
 "metadata": {
  "interpreter": {
   "hash": "11ffc019a02cc0e21e59860b66c88ea81995ce9237607e8ab2c087a287ee4867"
  },
  "kernelspec": {
   "display_name": "Python 3.8.8 64-bit ('base': conda)",
   "language": "python",
   "name": "python3"
  },
  "language_info": {
   "codemirror_mode": {
    "name": "ipython",
    "version": 3
   },
   "file_extension": ".py",
   "mimetype": "text/x-python",
   "name": "python",
   "nbconvert_exporter": "python",
   "pygments_lexer": "ipython3",
   "version": "3.8.8"
  },
  "orig_nbformat": 4
 },
 "nbformat": 4,
 "nbformat_minor": 2
}
