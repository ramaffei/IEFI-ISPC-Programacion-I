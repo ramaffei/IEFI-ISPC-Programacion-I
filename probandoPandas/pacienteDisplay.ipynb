{
 "cells": [
  {
   "cell_type": "code",
   "execution_count": 16,
   "metadata": {},
   "outputs": [],
   "source": [
    "class Paciente:\n",
    "    def __init__(self):\n",
    "        self.datosPacientes=[]\n",
    "\n",
    "    def datosP(self):\n",
    "        while True:            \n",
    "  \n",
    "            try:                        \n",
    "                nombre=input(\"Nombre: \")\n",
    "                nombre=str(nombre)\n",
    "                apellido=input(\"Apellido: \")\n",
    "                apellido=str(apellido)\n",
    "        \n",
    "                edad=input(\"Edad: \")\n",
    "                edad=int(edad)\n",
    "\n",
    "                genero=input(\"Género: \\n 1 Femenino (marque 1) \\n 2 Masculino (marque 2) \\n 3 Otro (marque 3) \\n\")\n",
    "                genero=int(genero)\n",
    "                if genero <1 or genero >3:\n",
    "                    print('Marque 1, 2 ó 3 según el menú anterior:')\n",
    "                    genero=input(\"Género: \\n 1 Femenino (marque 1) \\n 2 Masculino (marque 2) \\n 3 Otro (marque 3) \\n\")\n",
    "\n",
    "                dni=input(\"DNI: \")\n",
    "                dni=int(dni)\n",
    "                \n",
    "                cel=input(\"Teléfono móvil: \")\n",
    "                cel=int(cel)\n",
    "\n",
    "                break\n",
    "            \n",
    "            except (ValueError): \n",
    "                print(\"Error al ingresar los datos\")        \n",
    "\n",
    "        self.datosPacientes.append({'Nombre':nombre,'Apellido':apellido,'Edad':edad,'Género':genero,'DNI':dni,'Celular':cel})\n",
    "\n",
    "    def atencion(self):\n",
    "        print (\"\"\"\n",
    "        Ahora le vamos a pedir los datos del paciente\n",
    "        ¿Es la primera vez que se atiende?\n",
    "        \n",
    "        1 Primera vez que me atiendo (marque 1)\n",
    "        2 Me he atendido previamente (marque 2) \n",
    "        \"\"\")\n",
    "        \n",
    "        while True:            \n",
    "\n",
    "            try:\n",
    "                atencion=input('Marque 1 ó 2 según el menú anterior: ') \n",
    "                atencion=int(atencion)\n",
    "                if atencion ==2:\n",
    "                    histClinica=(input(\"Indique el Nº de su Historia Clínica en el dispensario \\n (marque 0 si no la recuerda): \\n\"))\n",
    "                    histClinica=int(histClinica)\n",
    "                    self.datosPacientes.append({'Atención':atencion,'HistClinica':histClinica})\n",
    "                if atencion ==1:\n",
    "                    pass\n",
    "                else:\n",
    "                    print('Marque 1 ó 2 según el menú anterior:')\n",
    "    \n",
    "                break\n",
    "            \n",
    "            except (ValueError): \n",
    "                print(\"Error al ingresar los datos\")      \n",
    "        \n",
    "        self.datosPacientes.append({'Atención':atencion})\n",
    "\n",
    "\n",
    "#consulta ¿estos datos los pedimos en un display o en la función?\n",
    "\n",
    "#display\n",
    "#if __name__ == '__main__':\n",
    "\n"
   ]
  },
  {
   "attachments": {
    "picture.png": {
     "image/png": "[encoded data removed]"
    }
   },
   "cell_type": "markdown",
   "metadata": {},
   "source": [
    "![picture.png](attachment:picture.png)\n",
    "\n",
    "    Bienvenido al TURNERO del Centro de Salud Comunitario\n",
    "    ¿Para cuál especialidad quiere pedir un turno?\n",
    "        \n",
    "        1 Oftalmología (marque 1)\n",
    "        2 Odontología (marque 2)\n",
    "        3 Ginecología (marque 3)\n",
    "        4 Médico Clínico (marque 4)\n",
    "        5 Pediatría (marque 5)"
   ]
  },
  {
   "cell_type": "code",
   "execution_count": 17,
   "metadata": {},
   "outputs": [
    {
     "name": "stdout",
     "output_type": "stream",
     "text": [
      "Marque el número de la especialidad: 1\n"
     ]
    },
    {
     "data": {
      "text/plain": [
       "'1'"
      ]
     },
     "execution_count": 17,
     "metadata": {},
     "output_type": "execute_result"
    }
   ],
   "source": [
    "input('Marque el número de la especialidad: ')"
   ]
  },
  {
   "cell_type": "code",
   "execution_count": null,
   "metadata": {},
   "outputs": [
    {
     "name": "stdout",
     "output_type": "stream",
     "text": [
      "\n",
      "        Ahora le vamos a pedir los datos del paciente\n",
      "        ¿Es la primera vez que se atiende?\n",
      "        \n",
      "        1 Primera vez que me atiendo (marque 1)\n",
      "        2 Me he atendido previamente (marque 2) \n",
      "        \n",
      "Marque 1 ó 2 según el menú anterior: 1\n",
      "Nombre: 2\n",
      "Apellido: 2\n",
      "Edad: a\n",
      "Error al ingresar los datos\n"
     ]
    }
   ],
   "source": [
    "paciente = Paciente()\n",
    "paciente.atencion()\n",
    "paciente.datosP()\n",
    "paciente.datosPacientes"
   ]
  },
  {
   "cell_type": "code",
   "execution_count": null,
   "metadata": {},
   "outputs": [],
   "source": []
  },
  {
   "cell_type": "code",
   "execution_count": null,
   "metadata": {},
   "outputs": [],
   "source": []
  },
  {
   "cell_type": "code",
   "execution_count": null,
   "metadata": {},
   "outputs": [],
   "source": []
  }
 ],
 "metadata": {
  "interpreter": {
   "hash": "11ffc019a02cc0e21e59860b66c88ea81995ce9237607e8ab2c087a287ee4867"
  },
  "kernelspec": {
   "display_name": "Python 3",
   "language": "python",
   "name": "python3"
  },
  "language_info": {
   "codemirror_mode": {
    "name": "ipython",
    "version": 3
   },
   "file_extension": ".py",
   "mimetype": "text/x-python",
   "name": "python",
   "nbconvert_exporter": "python",
   "pygments_lexer": "ipython3",
   "version": "3.8.8"
  }
 },
 "nbformat": 4,
 "nbformat_minor": 2
}
