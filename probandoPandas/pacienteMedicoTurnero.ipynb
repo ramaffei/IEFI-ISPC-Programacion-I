{
 "cells": [
  {
   "cell_type": "code",
   "execution_count": 16,
   "id": "aeb4fa20",
   "metadata": {},
   "outputs": [],
   "source": [
    "import pandas as pd\n",
    "import numpy as np"
   ]
  },
  {
   "cell_type": "code",
   "execution_count": 20,
   "id": "abb7c415",
   "metadata": {},
   "outputs": [
    {
     "name": "stdout",
     "output_type": "stream",
     "text": [
      "Nombre: Cecilia\n",
      "Apellido: Heredia\n",
      "Edad: 42\n",
      "Género: \n",
      " 1 Femenino (marque 1) \n",
      " 2 Masculino (marque 2) \n",
      " 3 Otro (marque 3) \n",
      "1\n",
      "DNI: 27172153\n",
      "Teléfono móvil: 3512453353\n",
      "1 Oftalmología (marque 1)\n",
      "2 Odontología (marque 2)\n",
      "3 Ginecología (marque 3)\n",
      "4 Médico Clínico (marque 4)\n",
      "5 Pediatría (marque 5)\n",
      "1\n"
     ]
    },
    {
     "data": {
      "text/plain": [
       "[{'Nombre': 'Cecilia',\n",
       "  'Apellido': 'Heredia',\n",
       "  'Edad': '42',\n",
       "  'Genero': '1',\n",
       "  'DNI': '27172153',\n",
       "  'Celular': '3512453353',\n",
       "  'id_espe': '1'}]"
      ]
     },
     "execution_count": 20,
     "metadata": {},
     "output_type": "execute_result"
    }
   ],
   "source": [
    "class Paciente:\n",
    "    def __init__(self):\n",
    "        self.datosPacientes=[]\n",
    "\n",
    "    def datosP(self):\n",
    "        nombre=input(\"Nombre: \")\n",
    "        apellido=input(\"Apellido: \") \n",
    "        edad=input(\"Edad: \")\n",
    "        genero=input(\"Género: \\n 1 Femenino (marque 1) \\n 2 Masculino (marque 2) \\n 3 Otro (marque 3) \\n\")    \n",
    "        dni=input(\"DNI: \")\n",
    "        cel=input(\"Teléfono móvil: \")\n",
    "        id_espe=input(\"1 Oftalmología (marque 1)\\n2 Odontología (marque 2)\\n3 Ginecología (marque 3)\\n4 Médico Clínico (marque 4)\\n5 Pediatría (marque 5)\\n\")                 \n",
    "        \n",
    "        self.datosPacientes.append({'Nombre':nombre,'Apellido':apellido,'Edad':edad,'Genero':genero,'DNI':dni,'Celular':cel,'id_espe':id_espe})\n",
    "        self._guardarCSV()\n",
    "        return self.datosPacientes\n",
    "    \n",
    "    def _guardarCSV(self):\n",
    "        dfPacientes = pd.DataFrame(self.datosPacientes)\n",
    "        dfPacientes.to_csv('datosPacientes.csv')\n",
    "\n",
    "            \n",
    "paciente1 = Paciente()\n",
    "paciente1.datosP()\n",
    "paciente1.datosPacientes\n",
    "\n",
    "                           "
   ]
  },
  {
   "cell_type": "code",
   "execution_count": 21,
   "id": "51dbb0fc",
   "metadata": {},
   "outputs": [
    {
     "data": {
      "text/html": [
       "<div>\n",
       "<style scoped>\n",
       "    .dataframe tbody tr th:only-of-type {\n",
       "        vertical-align: middle;\n",
       "    }\n",
       "\n",
       "    .dataframe tbody tr th {\n",
       "        vertical-align: top;\n",
       "    }\n",
       "\n",
       "    .dataframe thead th {\n",
       "        text-align: right;\n",
       "    }\n",
       "</style>\n",
       "<table border=\"1\" class=\"dataframe\">\n",
       "  <thead>\n",
       "    <tr style=\"text-align: right;\">\n",
       "      <th></th>\n",
       "      <th>Id_espe</th>\n",
       "      <th>especialidad</th>\n",
       "      <th>nombre</th>\n",
       "      <th>apellido</th>\n",
       "    </tr>\n",
       "  </thead>\n",
       "  <tbody>\n",
       "    <tr>\n",
       "      <th>0</th>\n",
       "      <td>1</td>\n",
       "      <td>Oftalmologia</td>\n",
       "      <td>Marisa</td>\n",
       "      <td>Vargas</td>\n",
       "    </tr>\n",
       "    <tr>\n",
       "      <th>1</th>\n",
       "      <td>2</td>\n",
       "      <td>Odontologia</td>\n",
       "      <td>Pedro</td>\n",
       "      <td>Zinaudo</td>\n",
       "    </tr>\n",
       "    <tr>\n",
       "      <th>2</th>\n",
       "      <td>3</td>\n",
       "      <td>Ginecologia</td>\n",
       "      <td>Alfonso</td>\n",
       "      <td>Pedraza</td>\n",
       "    </tr>\n",
       "    <tr>\n",
       "      <th>3</th>\n",
       "      <td>4</td>\n",
       "      <td>Medico Clinico</td>\n",
       "      <td>Carolina</td>\n",
       "      <td>Mostaza</td>\n",
       "    </tr>\n",
       "    <tr>\n",
       "      <th>4</th>\n",
       "      <td>5</td>\n",
       "      <td>Pediatria</td>\n",
       "      <td>Ana</td>\n",
       "      <td>Gallardo</td>\n",
       "    </tr>\n",
       "  </tbody>\n",
       "</table>\n",
       "</div>"
      ],
      "text/plain": [
       "   Id_espe    especialidad    nombre  apellido\n",
       "0        1    Oftalmologia    Marisa    Vargas\n",
       "1        2     Odontologia     Pedro   Zinaudo\n",
       "2        3     Ginecologia   Alfonso   Pedraza\n",
       "3        4  Medico Clinico  Carolina   Mostaza\n",
       "4        5       Pediatria       Ana  Gallardo"
      ]
     },
     "execution_count": 21,
     "metadata": {},
     "output_type": "execute_result"
    }
   ],
   "source": [
    "class Medico:\n",
    "    def __init__(self):\n",
    "        pass\n",
    "    \n",
    "    def datosM(self):\n",
    "        self.medicos = pd.read_csv(\"medicos.csv\")\n",
    "        return self.medicos\n",
    "\n",
    "medico = Medico()\n",
    "medico.datosM()\n",
    "\n"
   ]
  },
  {
   "cell_type": "code",
   "execution_count": 22,
   "id": "5740e40c",
   "metadata": {},
   "outputs": [
    {
     "ename": "TypeError",
     "evalue": "'list' object is not callable",
     "output_type": "error",
     "traceback": [
      "\u001b[1;31m---------------------------------------------------------------------------\u001b[0m",
      "\u001b[1;31mTypeError\u001b[0m                                 Traceback (most recent call last)",
      "\u001b[1;32m<ipython-input-22-1dbce59a85da>\u001b[0m in \u001b[0;36m<module>\u001b[1;34m\u001b[0m\n\u001b[0;32m     10\u001b[0m \u001b[1;33m\u001b[0m\u001b[0m\n\u001b[0;32m     11\u001b[0m \u001b[0mturno\u001b[0m \u001b[1;33m=\u001b[0m \u001b[0mTurnero\u001b[0m\u001b[1;33m(\u001b[0m\u001b[1;33m)\u001b[0m\u001b[1;33m\u001b[0m\u001b[1;33m\u001b[0m\u001b[0m\n\u001b[1;32m---> 12\u001b[1;33m \u001b[0mturno\u001b[0m\u001b[1;33m.\u001b[0m\u001b[0masignarTurno\u001b[0m\u001b[1;33m(\u001b[0m\u001b[0mpaciente1\u001b[0m\u001b[1;33m)\u001b[0m\u001b[1;33m\u001b[0m\u001b[1;33m\u001b[0m\u001b[0m\n\u001b[0m",
      "\u001b[1;32m<ipython-input-22-1dbce59a85da>\u001b[0m in \u001b[0;36masignarTurno\u001b[1;34m(self, paciente)\u001b[0m\n\u001b[0;32m      2\u001b[0m \u001b[1;33m\u001b[0m\u001b[0m\n\u001b[0;32m      3\u001b[0m     \u001b[1;32mdef\u001b[0m \u001b[0masignarTurno\u001b[0m\u001b[1;33m(\u001b[0m\u001b[0mself\u001b[0m\u001b[1;33m,\u001b[0m\u001b[0mpaciente\u001b[0m\u001b[1;33m)\u001b[0m\u001b[1;33m:\u001b[0m\u001b[1;33m\u001b[0m\u001b[1;33m\u001b[0m\u001b[0m\n\u001b[1;32m----> 4\u001b[1;33m         \u001b[0mdatos\u001b[0m \u001b[1;33m=\u001b[0m \u001b[0mself\u001b[0m\u001b[1;33m.\u001b[0m\u001b[0mdatosPacientes\u001b[0m\u001b[1;33m(\u001b[0m\u001b[1;33m)\u001b[0m\u001b[1;33m\u001b[0m\u001b[1;33m\u001b[0m\u001b[0m\n\u001b[0m\u001b[0;32m      5\u001b[0m         \u001b[1;31m#self.datosPacientes = pd.read_csv('datosPacientes.csv')\u001b[0m\u001b[1;33m\u001b[0m\u001b[1;33m\u001b[0m\u001b[1;33m\u001b[0m\u001b[0m\n\u001b[0;32m      6\u001b[0m         \u001b[0mprint\u001b[0m\u001b[1;33m(\u001b[0m\u001b[0mdatos\u001b[0m\u001b[1;33m)\u001b[0m\u001b[1;33m\u001b[0m\u001b[1;33m\u001b[0m\u001b[0m\n",
      "\u001b[1;31mTypeError\u001b[0m: 'list' object is not callable"
     ]
    }
   ],
   "source": [
    "class Turnero(Paciente):\n",
    "    \n",
    "    def asignarTurno(self,paciente):\n",
    "        datos = self.datosPacientes()\n",
    "        #self.datosPacientes = pd.read_csv('datosPacientes.csv')\n",
    "        print(datos)\n",
    "        #for elem in datos:      #accedemos a cada elemento de la lista (en este caso cada elemento es un dictionario)\n",
    "         #   for k,v in elem.items():        #acedemos a cada llave(k), valor(v) de cada diccionario\n",
    "          #      print(k, v)\n",
    "    \n",
    "turno = Turnero()\n",
    "turno.asignarTurno(paciente1)"
   ]
  },
  {
   "cell_type": "code",
   "execution_count": null,
   "id": "7638f89b",
   "metadata": {},
   "outputs": [],
   "source": []
  }
 ],
 "metadata": {
  "kernelspec": {
   "display_name": "Python 3",
   "language": "python",
   "name": "python3"
  },
  "language_info": {
   "codemirror_mode": {
    "name": "ipython",
    "version": 3
   },
   "file_extension": ".py",
   "mimetype": "text/x-python",
   "name": "python",
   "nbconvert_exporter": "python",
   "pygments_lexer": "ipython3",
   "version": "3.8.8"
  }
 },
 "nbformat": 4,
 "nbformat_minor": 5
}
